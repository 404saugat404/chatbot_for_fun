{
 "cells": [
  {
   "cell_type": "code",
   "execution_count": 14,
   "metadata": {},
   "outputs": [
    {
     "name": "stdout",
     "output_type": "stream",
     "text": [
      "Defaulting to user installation because normal site-packages is not writeable\n",
      "Requirement already satisfied: langchain in /home/saugat/.local/lib/python3.10/site-packages (0.2.11)\n",
      "Requirement already satisfied: aiohttp<4.0.0,>=3.8.3 in /home/saugat/.local/lib/python3.10/site-packages (from langchain) (3.9.5)\n",
      "Requirement already satisfied: langchain-core<0.3.0,>=0.2.23 in /home/saugat/.local/lib/python3.10/site-packages (from langchain) (0.2.23)\n",
      "Requirement already satisfied: pydantic<3,>=1 in /home/saugat/.local/lib/python3.10/site-packages (from langchain) (2.5.2)\n",
      "Requirement already satisfied: numpy<2,>=1 in /home/saugat/.local/lib/python3.10/site-packages (from langchain) (1.24.1)\n",
      "Requirement already satisfied: requests<3,>=2 in /home/saugat/.local/lib/python3.10/site-packages (from langchain) (2.31.0)\n",
      "Requirement already satisfied: langsmith<0.2.0,>=0.1.17 in /home/saugat/.local/lib/python3.10/site-packages (from langchain) (0.1.93)\n",
      "Requirement already satisfied: tenacity!=8.4.0,<9.0.0,>=8.1.0 in /home/saugat/.local/lib/python3.10/site-packages (from langchain) (8.5.0)\n",
      "Requirement already satisfied: async-timeout<5.0.0,>=4.0.0 in /home/saugat/.local/lib/python3.10/site-packages (from langchain) (4.0.3)\n",
      "Requirement already satisfied: PyYAML>=5.3 in /usr/lib/python3/dist-packages (from langchain) (5.4.1)\n",
      "Requirement already satisfied: langchain-text-splitters<0.3.0,>=0.2.0 in /home/saugat/.local/lib/python3.10/site-packages (from langchain) (0.2.2)\n",
      "Requirement already satisfied: SQLAlchemy<3,>=1.4 in /home/saugat/.local/lib/python3.10/site-packages (from langchain) (2.0.31)\n",
      "Requirement already satisfied: frozenlist>=1.1.1 in /home/saugat/.local/lib/python3.10/site-packages (from aiohttp<4.0.0,>=3.8.3->langchain) (1.4.1)\n",
      "Requirement already satisfied: attrs>=17.3.0 in /home/saugat/.local/lib/python3.10/site-packages (from aiohttp<4.0.0,>=3.8.3->langchain) (23.2.0)\n",
      "Requirement already satisfied: aiosignal>=1.1.2 in /home/saugat/.local/lib/python3.10/site-packages (from aiohttp<4.0.0,>=3.8.3->langchain) (1.3.1)\n",
      "Requirement already satisfied: multidict<7.0,>=4.5 in /home/saugat/.local/lib/python3.10/site-packages (from aiohttp<4.0.0,>=3.8.3->langchain) (6.0.5)\n",
      "Requirement already satisfied: yarl<2.0,>=1.0 in /home/saugat/.local/lib/python3.10/site-packages (from aiohttp<4.0.0,>=3.8.3->langchain) (1.9.4)\n",
      "Requirement already satisfied: jsonpatch<2.0,>=1.33 in /home/saugat/.local/lib/python3.10/site-packages (from langchain-core<0.3.0,>=0.2.23->langchain) (1.33)\n",
      "Requirement already satisfied: packaging<25,>=23.2 in /home/saugat/.local/lib/python3.10/site-packages (from langchain-core<0.3.0,>=0.2.23->langchain) (23.2)\n",
      "Requirement already satisfied: orjson<4.0.0,>=3.9.14 in /home/saugat/.local/lib/python3.10/site-packages (from langsmith<0.2.0,>=0.1.17->langchain) (3.10.6)\n",
      "Requirement already satisfied: typing-extensions>=4.6.1 in /home/saugat/.local/lib/python3.10/site-packages (from pydantic<3,>=1->langchain) (4.8.0)\n",
      "Requirement already satisfied: pydantic-core==2.14.5 in /home/saugat/.local/lib/python3.10/site-packages (from pydantic<3,>=1->langchain) (2.14.5)\n",
      "Requirement already satisfied: annotated-types>=0.4.0 in /home/saugat/.local/lib/python3.10/site-packages (from pydantic<3,>=1->langchain) (0.6.0)\n",
      "Requirement already satisfied: urllib3<3,>=1.21.1 in /home/saugat/.local/lib/python3.10/site-packages (from requests<3,>=2->langchain) (2.1.0)\n",
      "Requirement already satisfied: certifi>=2017.4.17 in /home/saugat/.local/lib/python3.10/site-packages (from requests<3,>=2->langchain) (2023.11.17)\n",
      "Requirement already satisfied: charset-normalizer<4,>=2 in /home/saugat/.local/lib/python3.10/site-packages (from requests<3,>=2->langchain) (3.3.2)\n",
      "Requirement already satisfied: idna<4,>=2.5 in /home/saugat/.local/lib/python3.10/site-packages (from requests<3,>=2->langchain) (3.6)\n",
      "Requirement already satisfied: greenlet!=0.4.17 in /home/saugat/.local/lib/python3.10/site-packages (from SQLAlchemy<3,>=1.4->langchain) (3.0.3)\n",
      "Requirement already satisfied: jsonpointer>=1.9 in /home/saugat/.local/lib/python3.10/site-packages (from jsonpatch<2.0,>=1.33->langchain-core<0.3.0,>=0.2.23->langchain) (3.0.0)\n",
      "Defaulting to user installation because normal site-packages is not writeable\n",
      "Requirement already satisfied: langchain_community in /home/saugat/.local/lib/python3.10/site-packages (0.2.10)\n",
      "Requirement already satisfied: requests<3,>=2 in /home/saugat/.local/lib/python3.10/site-packages (from langchain_community) (2.31.0)\n",
      "Requirement already satisfied: langchain<0.3.0,>=0.2.9 in /home/saugat/.local/lib/python3.10/site-packages (from langchain_community) (0.2.11)\n",
      "Requirement already satisfied: langchain-core<0.3.0,>=0.2.23 in /home/saugat/.local/lib/python3.10/site-packages (from langchain_community) (0.2.23)\n",
      "Requirement already satisfied: dataclasses-json<0.7,>=0.5.7 in /home/saugat/.local/lib/python3.10/site-packages (from langchain_community) (0.6.7)\n",
      "Requirement already satisfied: PyYAML>=5.3 in /usr/lib/python3/dist-packages (from langchain_community) (5.4.1)\n",
      "Requirement already satisfied: langsmith<0.2.0,>=0.1.0 in /home/saugat/.local/lib/python3.10/site-packages (from langchain_community) (0.1.93)\n",
      "Requirement already satisfied: SQLAlchemy<3,>=1.4 in /home/saugat/.local/lib/python3.10/site-packages (from langchain_community) (2.0.31)\n",
      "Requirement already satisfied: tenacity!=8.4.0,<9.0.0,>=8.1.0 in /home/saugat/.local/lib/python3.10/site-packages (from langchain_community) (8.5.0)\n",
      "Requirement already satisfied: aiohttp<4.0.0,>=3.8.3 in /home/saugat/.local/lib/python3.10/site-packages (from langchain_community) (3.9.5)\n",
      "Requirement already satisfied: numpy<2,>=1 in /home/saugat/.local/lib/python3.10/site-packages (from langchain_community) (1.24.1)\n",
      "Requirement already satisfied: multidict<7.0,>=4.5 in /home/saugat/.local/lib/python3.10/site-packages (from aiohttp<4.0.0,>=3.8.3->langchain_community) (6.0.5)\n",
      "Requirement already satisfied: yarl<2.0,>=1.0 in /home/saugat/.local/lib/python3.10/site-packages (from aiohttp<4.0.0,>=3.8.3->langchain_community) (1.9.4)\n",
      "Requirement already satisfied: async-timeout<5.0,>=4.0 in /home/saugat/.local/lib/python3.10/site-packages (from aiohttp<4.0.0,>=3.8.3->langchain_community) (4.0.3)\n",
      "Requirement already satisfied: frozenlist>=1.1.1 in /home/saugat/.local/lib/python3.10/site-packages (from aiohttp<4.0.0,>=3.8.3->langchain_community) (1.4.1)\n",
      "Requirement already satisfied: aiosignal>=1.1.2 in /home/saugat/.local/lib/python3.10/site-packages (from aiohttp<4.0.0,>=3.8.3->langchain_community) (1.3.1)\n",
      "Requirement already satisfied: attrs>=17.3.0 in /home/saugat/.local/lib/python3.10/site-packages (from aiohttp<4.0.0,>=3.8.3->langchain_community) (23.2.0)\n",
      "Requirement already satisfied: typing-inspect<1,>=0.4.0 in /home/saugat/.local/lib/python3.10/site-packages (from dataclasses-json<0.7,>=0.5.7->langchain_community) (0.9.0)\n",
      "Requirement already satisfied: marshmallow<4.0.0,>=3.18.0 in /home/saugat/.local/lib/python3.10/site-packages (from dataclasses-json<0.7,>=0.5.7->langchain_community) (3.21.3)\n",
      "Requirement already satisfied: langchain-text-splitters<0.3.0,>=0.2.0 in /home/saugat/.local/lib/python3.10/site-packages (from langchain<0.3.0,>=0.2.9->langchain_community) (0.2.2)\n",
      "Requirement already satisfied: pydantic<3,>=1 in /home/saugat/.local/lib/python3.10/site-packages (from langchain<0.3.0,>=0.2.9->langchain_community) (2.5.2)\n",
      "Requirement already satisfied: jsonpatch<2.0,>=1.33 in /home/saugat/.local/lib/python3.10/site-packages (from langchain-core<0.3.0,>=0.2.23->langchain_community) (1.33)\n",
      "Requirement already satisfied: packaging<25,>=23.2 in /home/saugat/.local/lib/python3.10/site-packages (from langchain-core<0.3.0,>=0.2.23->langchain_community) (23.2)\n",
      "Requirement already satisfied: orjson<4.0.0,>=3.9.14 in /home/saugat/.local/lib/python3.10/site-packages (from langsmith<0.2.0,>=0.1.0->langchain_community) (3.10.6)\n",
      "Requirement already satisfied: urllib3<3,>=1.21.1 in /home/saugat/.local/lib/python3.10/site-packages (from requests<3,>=2->langchain_community) (2.1.0)\n",
      "Requirement already satisfied: idna<4,>=2.5 in /home/saugat/.local/lib/python3.10/site-packages (from requests<3,>=2->langchain_community) (3.6)\n",
      "Requirement already satisfied: certifi>=2017.4.17 in /home/saugat/.local/lib/python3.10/site-packages (from requests<3,>=2->langchain_community) (2023.11.17)\n",
      "Requirement already satisfied: charset-normalizer<4,>=2 in /home/saugat/.local/lib/python3.10/site-packages (from requests<3,>=2->langchain_community) (3.3.2)\n",
      "Requirement already satisfied: greenlet!=0.4.17 in /home/saugat/.local/lib/python3.10/site-packages (from SQLAlchemy<3,>=1.4->langchain_community) (3.0.3)\n",
      "Requirement already satisfied: typing-extensions>=4.6.0 in /home/saugat/.local/lib/python3.10/site-packages (from SQLAlchemy<3,>=1.4->langchain_community) (4.8.0)\n",
      "Requirement already satisfied: jsonpointer>=1.9 in /home/saugat/.local/lib/python3.10/site-packages (from jsonpatch<2.0,>=1.33->langchain-core<0.3.0,>=0.2.23->langchain_community) (3.0.0)\n",
      "Requirement already satisfied: annotated-types>=0.4.0 in /home/saugat/.local/lib/python3.10/site-packages (from pydantic<3,>=1->langchain<0.3.0,>=0.2.9->langchain_community) (0.6.0)\n",
      "Requirement already satisfied: pydantic-core==2.14.5 in /home/saugat/.local/lib/python3.10/site-packages (from pydantic<3,>=1->langchain<0.3.0,>=0.2.9->langchain_community) (2.14.5)\n",
      "Requirement already satisfied: mypy-extensions>=0.3.0 in /home/saugat/.local/lib/python3.10/site-packages (from typing-inspect<1,>=0.4.0->dataclasses-json<0.7,>=0.5.7->langchain_community) (1.0.0)\n",
      "Defaulting to user installation because normal site-packages is not writeable\n",
      "Requirement already satisfied: python-dotenv in /home/saugat/.local/lib/python3.10/site-packages (1.0.1)\n"
     ]
    }
   ],
   "source": [
    "!pip install langchain\n",
    "!pip install langchain_community\n",
    "!pip install python-dotenv\n"
   ]
  },
  {
   "cell_type": "code",
   "execution_count": 17,
   "metadata": {},
   "outputs": [],
   "source": [
    "from langchain.llms import OpenAI\n",
    "from dotenv import load_dotenv\n",
    "import os\n",
    "\n",
    "# Load environment variables from .env file\n",
    "load_dotenv()\n",
    "\n",
    "# Access the variables\n",
    "api_key = os.getenv('open_ai_api')"
   ]
  },
  {
   "cell_type": "code",
   "execution_count": 18,
   "metadata": {},
   "outputs": [],
   "source": [
    "llm=OpenAI(openai_api_key=api_key,temperature=0.5)"
   ]
  },
  {
   "cell_type": "code",
   "execution_count": 19,
   "metadata": {},
   "outputs": [
    {
     "name": "stderr",
     "output_type": "stream",
     "text": [
      "/home/saugat/.local/lib/python3.10/site-packages/langchain_core/_api/deprecation.py:139: LangChainDeprecationWarning: The method `BaseLLM.predict` was deprecated in langchain-core 0.1.7 and will be removed in 0.3.0. Use invoke instead.\n",
      "  warn_deprecated(\n"
     ]
    },
    {
     "name": "stdout",
     "output_type": "stream",
     "text": [
      "\n",
      "\n",
      "The capital of Nepal is Kathmandu.\n"
     ]
    }
   ],
   "source": [
    "text=\"what is capital of nepal\"\n",
    "print(llm.predict(text))"
   ]
  },
  {
   "cell_type": "code",
   "execution_count": 20,
   "metadata": {},
   "outputs": [
    {
     "data": {
      "text/plain": [
       "\"\\n\\nOh dear friend, so full of grace\\nYour presence brightens every space\\nWith kindness in your heart so pure\\nYou spread love, of that I'm sure\\n\\nYour laughter, like a soothing breeze\\nBrings joy to all who are at ease\\nYour words, a comfort to my soul\\nIn you, I've found a precious role\\n\\nYour strength and courage, a guiding light\\nIn times of darkness, you shine so bright\\nI'm grateful for your friendship true\\nMy dear, this poem is just for you.\""
      ]
     },
     "execution_count": 20,
     "metadata": {},
     "output_type": "execute_result"
    }
   ],
   "source": [
    "llm.predict(\"can you write a 10 line poem about me\")"
   ]
  },
  {
   "cell_type": "code",
   "execution_count": 21,
   "metadata": {},
   "outputs": [
    {
     "name": "stderr",
     "output_type": "stream",
     "text": [
      "/home/saugat/.local/lib/python3.10/site-packages/langchain_core/_api/deprecation.py:139: LangChainDeprecationWarning: The class `LLMChain` was deprecated in LangChain 0.1.17 and will be removed in 1.0. Use RunnableSequence, e.g., `prompt | llm` instead.\n",
      "  warn_deprecated(\n"
     ]
    }
   ],
   "source": [
    "#prompt templating\n",
    "from langchain.prompts import PromptTemplate\n",
    "from langchain.chains import LLMChain\n",
    "\n",
    "capital_city=PromptTemplate(input_variables=['country'], template=\"what is the capital of {country}?\")\n",
    "capital_chain=LLMChain(llm=llm,prompt=capital_city)\n",
    "\n",
    "famous_template=PromptTemplate(input_variables=['capital'],template=\"suggest me best thing about {capital}\")\n",
    "\n"
   ]
  },
  {
   "cell_type": "code",
   "execution_count": 22,
   "metadata": {},
   "outputs": [],
   "source": [
    "famous_chain=LLMChain(llm=llm, prompt=famous_template)"
   ]
  },
  {
   "cell_type": "code",
   "execution_count": 25,
   "metadata": {},
   "outputs": [
    {
     "data": {
      "text/plain": [
       "\" It is a vibrant and bustling city, rich in culture and history. Here are some of the best things about Kathmandu:\\n\\n1. Rich Cultural Heritage: Kathmandu is home to seven UNESCO World Heritage Sites, including the famous Pashupatinath Temple, Swayambhunath Stupa, and Boudhanath Stupa. These ancient sites showcase the city's rich cultural and religious heritage.\\n\\n2. Delicious Food: The food scene in Kathmandu is diverse and delicious. From traditional Nepali dishes like momos and dal bhat to international cuisines, the city has something for every palate.\\n\\n3. Adventure Activities: Kathmandu is a gateway to the majestic Himalayas, making it a perfect destination for adventure enthusiasts. Activities like trekking, mountain biking, and paragliding are popular among tourists.\\n\\n4. Colorful Markets: The city is filled with bustling markets selling everything from traditional handicrafts to modern clothing. The most famous market is the Asan Bazaar, where you can find a variety of goods at affordable prices.\\n\\n5. Warm and Friendly People: Nepali people are known for their warm hospitality and friendly nature. Visitors to Kathmandu often rave about the welcoming and helpful locals, making their trip even more\""
      ]
     },
     "execution_count": 25,
     "metadata": {},
     "output_type": "execute_result"
    }
   ],
   "source": [
    "from langchain.chains import SimpleSequentialChain\n",
    "chains=SimpleSequentialChain(chains=([capital_chain,famous_chain]))\n",
    "chains.run(\"nepal\")"
   ]
  },
  {
   "cell_type": "code",
   "execution_count": null,
   "metadata": {},
   "outputs": [],
   "source": []
  }
 ],
 "metadata": {
  "kernelspec": {
   "display_name": "Python 3",
   "language": "python",
   "name": "python3"
  },
  "language_info": {
   "codemirror_mode": {
    "name": "ipython",
    "version": 3
   },
   "file_extension": ".py",
   "mimetype": "text/x-python",
   "name": "python",
   "nbconvert_exporter": "python",
   "pygments_lexer": "ipython3",
   "version": "3.10.12"
  }
 },
 "nbformat": 4,
 "nbformat_minor": 2
}
